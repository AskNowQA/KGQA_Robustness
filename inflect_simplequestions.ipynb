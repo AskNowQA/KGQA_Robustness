{
 "cells": [
  {
   "cell_type": "code",
   "execution_count": 3,
   "metadata": {},
   "outputs": [],
   "source": [
    "# Pretend we're writing in utilities\n",
    "from utilities import *"
   ]
  },
  {
   "cell_type": "code",
   "execution_count": 4,
   "metadata": {},
   "outputs": [],
   "source": [
    "simplequestions = load_simplequestions()"
   ]
  },
  {
   "cell_type": "code",
   "execution_count": 5,
   "metadata": {},
   "outputs": [
    {
     "data": {
      "text/plain": [
       "{'rawdir': PosixPath('data/raw/simplequestions'),\n",
       " 'autodir': PosixPath('data/auto/simplequestions'),\n",
       " 'golddir': PosixPath('data/gold/simplequestions'),\n",
       " 'raw': {'train': [{'uid': 0,\n",
       "    'question': 'Which genre of album is harder.....faster?'},\n",
       "   {'uid': 1, 'question': 'what format is fearless'},\n",
       "   {'uid': 2, 'question': 'what city was alex golfis born in'},\n",
       "   {'uid': 3, 'question': 'what film is by the writer phil hay?'},\n",
       "   {'uid': 4, 'question': 'Where did roger marquis die'},\n",
       "   {'uid': 5, 'question': 'what was the cause of death of yves klein'},\n",
       "   {'uid': 6, 'question': 'Which equestrian was born in dublin?'},\n",
       "   {'uid': 7, 'question': 'What is a tv action show?'},\n",
       "   {'uid': 8,\n",
       "    'question': 'was song is las vegas (extended club mix) a remix of'},\n",
       "   {'uid': 9, 'question': \"what's akbar tandjung's ethnicity\"},\n",
       "   {'uid': 10, 'question': \"What's a song by jean grae\"},\n",
       "   {'uid': 11, 'question': 'What position does carlos gomez play?'},\n",
       "   {'uid': 12, 'question': 'how does engelbert zaschka identify'},\n",
       "   {'uid': 13, 'question': 'what did carolyn s. shoemaker discover'},\n",
       "   {'uid': 14, 'question': \"What's a release on pretty in pink\"},\n",
       "   {'uid': 15, 'question': 'who produced the film woodstock villa'},\n",
       "   {'uid': 16,\n",
       "    'question': 'what film was shawn holly cookson the costume designer of'},\n",
       "   {'uid': 17, 'question': 'Who created the typeface chicago?'},\n",
       "   {'uid': 18,\n",
       "    'question': 'what position does pee wee reese play in baseball'},\n",
       "   {'uid': 19, 'question': 'which artist recorded one life to live'},\n",
       "   {'uid': 20, 'question': 'where is stephen mao from'},\n",
       "   {'uid': 21, 'question': 'what is a track on carpenter'},\n",
       "   {'uid': 22,\n",
       "    'question': \"Which Swiss conductor's cause of death is myocardial infarction?\"},\n",
       "   {'uid': 23, 'question': 'what type of music does david ruffin play'},\n",
       "   {'uid': 24, 'question': 'what tracks are listed in the release equator?'},\n",
       "   {'uid': 25, 'question': 'What is the track los angeles is a recording of?'},\n",
       "   {'uid': 26, 'question': 'Name a history film'},\n",
       "   {'uid': 27, 'question': \"where was padraic mcguinness's place of death\"},\n",
       "   {'uid': 28, 'question': 'what language is viper in'},\n",
       "   {'uid': 29,\n",
       "    'question': \"what's the name of an environmental disaster in italy\"},\n",
       "   {'uid': 30, 'question': 'Where was magical mystery tour released?'},\n",
       "   {'uid': 31, 'question': 'Who influenced michael mcdowell?'},\n",
       "   {'uid': 32,\n",
       "    'question': 'what formatting does the complete on the corner sessions have'},\n",
       "   {'uid': 33, 'question': 'where was michael dotson born'},\n",
       "   {'uid': 34, 'question': 'what is the place of birth of sam edwards?'},\n",
       "   {'uid': 35,\n",
       "    'question': 'which military was involved in the second battle of fort fisher'},\n",
       "   {'uid': 36,\n",
       "    'question': 'What kind of temperament is the pembroke welsh corgi known for'},\n",
       "   {'uid': 37,\n",
       "    'question': 'what kind of album is music for cello & orchestra'},\n",
       "   {'uid': 38, 'question': 'what is the content type of voodoo lounge?'},\n",
       "   {'uid': 39, 'question': 'Which label is somevelvetsidewalk signed to'}]},\n",
       " 'auto': {}}"
      ]
     },
     "execution_count": 5,
     "metadata": {},
     "output_type": "execute_result"
    }
   ],
   "source": [
    "simplequestions"
   ]
  },
  {
   "cell_type": "code",
   "execution_count": 6,
   "metadata": {},
   "outputs": [],
   "source": [
    "# Pretend we're in inflect\n",
    "from convert_auto import *"
   ]
  },
  {
   "cell_type": "code",
   "execution_count": 7,
   "metadata": {},
   "outputs": [],
   "source": [
    "nlp = spacy.load(\"en_core_web_sm\")\n",
    "\n",
    "# Get all relevant rules and their distribution\n",
    "with open(\"./rules_dist.json\", \"r\") as rules_file:\n",
    "    rules_dists = json.load(rules_file)\n",
    "\n",
    "# Use \"all\" rules for now\n",
    "rules_dist = [x for x in rules_dists if x['_profile'] == RULES_PROFILE][0]\n",
    "rules_dist = init(nlp, rules_dist)\n"
   ]
  },
  {
   "cell_type": "code",
   "execution_count": 8,
   "metadata": {},
   "outputs": [
    {
     "name": "stderr",
     "output_type": "stream",
     "text": [
      "100%|██████████| 40/40 [00:02<00:00, 13.47it/s]\n"
     ]
    }
   ],
   "source": [
    "for i, datum in tqdm(enumerate(simplequestions['raw']['train']), total=len(simplequestions['raw']['train'])):\n",
    "    uid, raw = datum.values()\n",
    "    inflected = []\n",
    "    \n",
    "    for rule_name, (rule_prob, rule_obj) in rules_dist['distribution'].items():\n",
    "        raw_spacied = nlp(raw)\n",
    "        try:\n",
    "            flag, res = rule_obj.apply(raw_spacied, rule_prob)\n",
    "            res = str(res)\n",
    "            inflected.append([rule_name, (flag, res)])\n",
    "        except TypeError:\n",
    "            traceback.print_exc()\n",
    "            print(raw)\n",
    "            raise InflectionError\n",
    "            \n",
    "    simplequestions['auto'].setdefault('train', []).append(inflected)    "
   ]
  },
  {
   "cell_type": "code",
   "execution_count": 15,
   "metadata": {},
   "outputs": [
    {
     "data": {
      "text/plain": [
       "'Which genre of album is harder.....faster?'"
      ]
     },
     "execution_count": 15,
     "metadata": {},
     "output_type": "execute_result"
    }
   ],
   "source": [
    "simplequestions['auto']['train'][0][0][1][1]"
   ]
  },
  {
   "cell_type": "code",
   "execution_count": null,
   "metadata": {},
   "outputs": [],
   "source": []
  }
 ],
 "metadata": {
  "kernelspec": {
   "display_name": "Python 3",
   "language": "python",
   "name": "python3"
  },
  "language_info": {
   "codemirror_mode": {
    "name": "ipython",
    "version": 3
   },
   "file_extension": ".py",
   "mimetype": "text/x-python",
   "name": "python",
   "nbconvert_exporter": "python",
   "pygments_lexer": "ipython3",
   "version": "3.6.9"
  }
 },
 "nbformat": 4,
 "nbformat_minor": 2
}
